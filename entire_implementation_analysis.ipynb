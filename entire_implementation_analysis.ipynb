{
  "cells": [
    {
      "cell_type": "markdown",
      "metadata": {
        "id": "9apl87qDcqJ-"
      },
      "source": [
        "#Imports"
      ]
    },
    {
      "cell_type": "code",
      "source": [
        "import numpy as np\n",
        "import pandas as pd\n",
        "import matplotlib.pyplot as plt\n",
        "import time\n",
        "import os"
      ],
      "metadata": {
        "id": "N1TjER0eNnEa"
      },
      "execution_count": 150,
      "outputs": []
    },
    {
      "cell_type": "markdown",
      "source": [
        "#Classes(Implementation)"
      ],
      "metadata": {
        "id": "KmKCCRgRNnRP"
      }
    },
    {
      "cell_type": "markdown",
      "source": [
        "##DFS to check cyclicity"
      ],
      "metadata": {
        "id": "SWS1tR32N6eq"
      }
    },
    {
      "cell_type": "code",
      "execution_count": 7,
      "metadata": {
        "id": "YsQahnoRcsS1"
      },
      "outputs": [],
      "source": [
        "class DFS_Cyclicity: \n",
        "\n",
        "  def __init__(self):\n",
        "\n",
        "    '''\n",
        "    This class will be used in Naive Kruskal algorithm where we need to check cyclicity.\n",
        "    It uses DFS algorithm to label each edge, and then by computing ancestors, it checks\n",
        "    whether a graph is cyclic or not.\n",
        "\n",
        "    IMPORTANT NOTE: This class should also take this fact into account that the input graph\n",
        "    might not be connected. Hence, it should go through all connected parts of the graph and\n",
        "    check whether there is a cycle in that part. One would say that all input graphs are connected\n",
        "    and MST is also connected, but we do not need to check cyclicity on the original graph or on \n",
        "    the final version of MST. Instead, we need to check it on the current non-completed version of\n",
        "    MST, which might be not connected. For example, after some iterations, we might obtain a non-complete\n",
        "    MST including following edges:\n",
        "    Edges = [1, 2], [1, 3], [4, 5], [4, 6], [5, 6]\n",
        "    This set of edges constructs a not connected graph and we still need to check cyclicity on this set.\n",
        "    This class will check cyclicity over the all connected parts of a graph.\n",
        "    '''\n",
        "\n",
        "    self.G = []\n",
        "\n",
        "  def graphInit(self, edgeList):\n",
        "\n",
        "    '''\n",
        "    self.visit:\n",
        "\n",
        "    Since, selecting edges in Naive Kruskal algorithm is according to the weights (selects the minimum-weighted\n",
        "    edge that does not create cycle) and not according to the order of vertices, the non-completed MST might\n",
        "    consist of this set of edges:\n",
        "    Edges = [19, 20], [11, 13], [20, 21], [31, 32]\n",
        "    As it is obvious, the number associated with vertices does not necessarily start from 1 and does not go in order.\n",
        "    So, python lists are not a good choice to track whether a NODE has already been VISITED. Instead, we are better to\n",
        "    use python dictionaries whose keys are edges.\n",
        "    In order to construct such a dictionary, we need to have the unique set of vertices which are the keys. That is why \n",
        "    in this function we define a attribute named self.uniqueVertices and use it when defining self.visit.\n",
        "    '''\n",
        "\n",
        "    self.G = edgeList\n",
        "    self.uniqueVertices = []\n",
        "    list(map(lambda x: list(map(lambda y: self.uniqueVertices.append(y), x)), self.G))\n",
        "\n",
        "    # L_E.label\n",
        "    self.label = {f\"{edgeList[i][0]},{edgeList[i][1]}\": None for i in range(len(self.G))}\n",
        "    # L_E.ancestor\n",
        "    self.ancestor = {f\"{edgeList[i][0]},{edgeList[i][1]}\": None for i in range(len(self.G))}\n",
        "    # L_V.ID\n",
        "    self.visit = {i : False for i in list(set(self.uniqueVertices))}\n",
        "\n",
        "  def __cycleCheckingOnConnectedGraph(self, sourceNode):\n",
        "\n",
        "    '''\n",
        "    This function will label edges in a CONNECTED part of a graph as \n",
        "    DISCOVERY or BACK edge.\n",
        "    '''\n",
        "\n",
        "    self.visit[sourceNode] = True # L_V[v].ID <- 1\n",
        "\n",
        "    for Ed in self.G: # forall e E G.incidentEdges(v) do\n",
        "\n",
        "      if Ed[0] == sourceNode or Ed[1] == sourceNode: # graph is undirected\n",
        "\n",
        "        if self.label[f\"{Ed[0]},{Ed[1]}\"] == None: # if(L_E[e].label) = null then\n",
        "\n",
        "          w = Ed[1] if Ed[0] == sourceNode else Ed[0] # w <- G.opposite(v, e) -> It returns the pair of source node. \n",
        "          #If the source node is Ed[0], it returns Ed[1] and if the source node is Ed[1], it returns Ed[0].\n",
        "\n",
        "          if not self.visit[w]: # if(L_V[w].ID = 0) then\n",
        "\n",
        "            self.label[f\"{Ed[0]},{Ed[1]}\"] = \"DISCOVERY\" # L_E[e].label <- DISCOVERY\n",
        "            self.__cycleCheckingOnConnectedGraph(w) # DFS(G, w)\n",
        "\n",
        "          else:\n",
        "\n",
        "            self.label[f\"{Ed[0]},{Ed[1]}\"] = \"BACK\" # L_E[e].label <- BACK\n",
        "            self.ancestor[f\"{Ed[0]},{Ed[1]}\"] = w\n",
        "\n",
        "    self.backEdges = [i for i in self.label.keys() if self.label[i] == \"BACK\"]\n",
        "\n",
        "  def cycleChecking(self):\n",
        "\n",
        "    '''\n",
        "    As far as we have edges in the graph labeled as None, our graph is not\n",
        "    fully visited and there is(are) (an)other connected part(s) to visit. That\n",
        "    is why the below while loop will terminate if there is no None-labeled edge.\n",
        "    This function visits and labels all of graph's edges, even if the graph is not\n",
        "    connected.\n",
        "    '''\n",
        "\n",
        "    while None in self.label.values():\n",
        "\n",
        "      # Find a node whose value is None and run the cycleCheckingOnConnectedGraph function\n",
        "      # on this node. (source node)\n",
        "\n",
        "      sN = int(list(self.label.keys())[list(self.label.values()).index(None)].split(\",\")[0])\n",
        "\n",
        "      self.__cycleCheckingOnConnectedGraph(sN)\n",
        "    \n",
        "    # Once you labeled all edges, iterate on all edges. As soon as an edge e=(v,w) labelled\n",
        "    #  as BACK and with L_E[e].ancestor = w is found, return \"cyclic\". Otherwise, \"acyclic\".\n",
        "\n",
        "    for BcEd in self.backEdges:\n",
        "\n",
        "      if self.ancestor[BcEd] == int(BcEd.split(',')[0]) or self.ancestor[BcEd] == int(BcEd.split(',')[-1]): # graph is undirected\n",
        "\n",
        "        return \"cyclic\"\n",
        "\n",
        "    return \"acyclic\""
      ]
    },
    {
      "cell_type": "markdown",
      "source": [
        "##Algorithms"
      ],
      "metadata": {
        "id": "wA-WPnSOODs4"
      }
    },
    {
      "cell_type": "code",
      "execution_count": 41,
      "metadata": {
        "id": "xB54CbUbkzlr"
      },
      "outputs": [],
      "source": [
        "class Graph_Algorithms(DFS_Cyclicity): # DFS_Cyclicity Will be used in Naive-Kruskal\n",
        "\n",
        "  def __init__(self, numberOfVertices):\n",
        "\n",
        "    '''\n",
        "      numberOfVertices : |Vertices|\n",
        "      self.parent_prim -> PRIM : (child, parent) pairs, initially defined as (child, None) pairs\n",
        "      self.keys -> PRIM : (node, weight) pairs whose weights are initially set to +inf\n",
        "      self.parent -> KruskalUF : (child, parent) pairs, initially defined as (child, child) pairs\n",
        "      self.size -> KruskalUF : (subtree, size) pairs whose sizes are initially set to 1\n",
        "    '''\n",
        "\n",
        "    self.V = numberOfVertices\n",
        "    self.graph = []\n",
        "    self.parent_prim = {i : None for i in range(1, self.V + 1)} # Will be used in PRIM\n",
        "    self.keys = {i : float(\"inf\") for i in range(1, self.V + 1)} # Will be used in PRIM\n",
        "    self.parent = {i : i for i in range(1, self.V + 1)} # Will be used in KruskalUF\n",
        "    self.size = {i : 1 for i in range(1, self.V + 1)} # Will be used in KruskalUF\n",
        "\n",
        "  def graphConstruction(self, edgeList):\n",
        "\n",
        "    '''\n",
        "      self.graph : Set of edges, each edge representing as [u, v, w]\n",
        "      u, v : Adjacent nodes -> (u, v) is incident on u, v\n",
        "      w : Edge weight\n",
        "    '''\n",
        "\n",
        "    self.graph = edgeList\n",
        "\n",
        "  def __extractMin(self, query): # Will be used in PRIM\n",
        "\n",
        "        min_u = min(query, key=self.keys.get)\n",
        "        query.remove(min_u)\n",
        "\n",
        "        return min_u\n",
        "\n",
        "  def __find_adjacent(self, u): # Will be used in PRIM\n",
        "\n",
        "        adjacents = set()\n",
        "        edges_of_graph = list(map(lambda x : x[:2] , self.graph))\n",
        "\n",
        "        for edge in edges_of_graph:\n",
        "\n",
        "              if edge[0] == u:\n",
        "                    adjacents.add(edge[1])\n",
        "\n",
        "              elif edge[1] == u:\n",
        "                    adjacents.add(edge[0])\n",
        "\n",
        "        return adjacents\n",
        "\n",
        "  def __findParent(self, child): # Will be used in KruskalUF\n",
        "\n",
        "    '''\n",
        "      child: A node whose parent is supposed to get discoverd\n",
        "\n",
        "      __findParent(child): Is a recurssive function that returns\n",
        "      the rootNode of a subtree containing child\n",
        "    '''\n",
        "\n",
        "    if self.parent[child] == child:\n",
        "\n",
        "      return child\n",
        "\n",
        "    return self.__findParent(self.parent[child])\n",
        "\n",
        "  def __Union(self, x, y): # Will be used in KruskalUF\n",
        "\n",
        "    '''\n",
        "      x, y : Nodes whose associated subtrees will be merged together\n",
        "\n",
        "      __Union(x, y): Each time this function is called, it checks whether Find(x) and\n",
        "      Find(y) is equal. If so, it does nothing. Otherwise, it checks if the size of\n",
        "      subtree containing x is greater or equal than the size of subtree containing y.\n",
        "      If so, it merges the second subtree with the first one. Otherwise, it merges the\n",
        "      first subtree with the second one. \n",
        "    '''\n",
        "\n",
        "    rootX = self.__findParent(x)\n",
        "    rootY = self.__findParent(y)\n",
        "\n",
        "    if rootX == rootY:\n",
        "\n",
        "      pass\n",
        "\n",
        "    elif self.size[rootX] >= self.size[rootY]:\n",
        "\n",
        "      self.parent[rootY] = rootX\n",
        "      self.size[rootX] += self.size[rootY]\n",
        "\n",
        "    else:\n",
        "\n",
        "      self.parent[rootX] = rootY\n",
        "      self.size[rootY] += self.size[rootX]\n",
        "\n",
        "\n",
        "  def PRIM(self, start, verbose=False):\n",
        "    \n",
        "    query = [i for i in range(1, self.V + 1)] # Q <- V\n",
        "    self.keys[start] = 0\n",
        "\n",
        "    while len(query) != 0: \n",
        "\n",
        "      u = self.__extractMin(query)\n",
        "      adjacents = self.__find_adjacent(u)\n",
        "\n",
        "      for v in adjacents:\n",
        "\n",
        "        key = 0\n",
        "        key_list1 = list(filter((lambda x : x[:2] == [u, v]), self.graph))\n",
        "        key_list2 = list(filter((lambda x : x[:2] == [v, u]), self.graph))\n",
        "\n",
        "        if key_list1 != []:\n",
        "\n",
        "          key = key_list1[0][-1]\n",
        "        else:\n",
        "\n",
        "          key = key_list2[0][-1]\n",
        "                    \n",
        "        if v in query and key < self.keys[v]:\n",
        "          self.keys[v] = key\n",
        "          self.parent_prim[v] = u\n",
        "        \n",
        "    values = self.keys.values()\n",
        "    totalWeight = sum(values)\n",
        "\n",
        "    if verbose:\n",
        "\n",
        "      print(f\"MST found by PRIM algorithm: {totalWeight}\")\n",
        "\n",
        "    return totalWeight\n",
        "        \n",
        "  def NaiveKruskal(self, verbose=False):\n",
        "\n",
        "    '''\n",
        "      This method is using DFS_Cyclicity to check if a graph is ascyclic.\n",
        "    ''' \n",
        "\n",
        "    A = []\n",
        "    A_withWeights = []\n",
        "\n",
        "    totalWeight = 0\n",
        "    # sort edges of G by weight\n",
        "    self.graph = sorted(self.graph, key=lambda item: item[2]) \n",
        "\n",
        "    s = self.graph[0][0]\n",
        "    \n",
        "    for (u, v, w) in self.graph: # foreach edge e, in nondecreasing order of weight do\n",
        "\n",
        "      copy = A.copy()\n",
        "      copy.append([u, v])\n",
        "\n",
        "      super().__init__()\n",
        "      self.graphInit(copy)\n",
        "\n",
        "      if self.cycleChecking() == \"acyclic\":# if A U {e} is acyclic then\n",
        "\n",
        "        A.append([u, v]) # A = A U {e}\n",
        "        A_withWeights.append([u, v, w])\n",
        "\n",
        "    for (u, v, w) in A_withWeights:\n",
        "\n",
        "      totalWeight += w\n",
        "\n",
        "    if verbose:\n",
        "\n",
        "      print(f\"MST found by Naive-Kruskal algorithm: {totalWeight}\")\n",
        "\n",
        "    return totalWeight\n",
        "\n",
        "  def KruskalUF(self, verbose=False):\n",
        "\n",
        "    A = []\n",
        "\n",
        "    totalWeight = 0\n",
        "\n",
        "    self.graph = sorted(self.graph, key=lambda item: item[2])\n",
        "\n",
        "    for (u, v, w) in self.graph:\n",
        "\n",
        "      if self.__findParent(u) != self.__findParent(v):\n",
        "\n",
        "        A.append([u, v, w])\n",
        "\n",
        "        self.__Union(u, v)\n",
        "\n",
        "    for (u, v, w) in A:\n",
        "\n",
        "      totalWeight += w\n",
        "\n",
        "    if verbose:\n",
        "      \n",
        "      print(f\"MST found by Kruskal-UF algorithm: {totalWeight}\")\n",
        "\n",
        "    return totalWeight"
      ]
    },
    {
      "cell_type": "markdown",
      "metadata": {
        "id": "nwAKjd4sZjsh"
      },
      "source": [
        "#Weight of the minimum spanning tree for each problem instance"
      ]
    },
    {
      "cell_type": "code",
      "source": [
        "!unzip /content/mst_dataset.zip"
      ],
      "metadata": {
        "id": "pEp3hlwA6QWJ"
      },
      "execution_count": null,
      "outputs": []
    },
    {
      "cell_type": "code",
      "source": [
        "root = \"/content/mst_dataset/\"\n",
        "inputs = []\n",
        "for file_name in sorted(os.listdir(root)):\n",
        "  input = []\n",
        "  with open(root + file_name) as f:\n",
        "    for i, content in enumerate(f.readlines()):\n",
        "      input.append(list(map(lambda x: int(x), content.replace(\"\\n\", \"\").split(\" \"))))\n",
        "    f.close()\n",
        "    inputs.append(input)"
      ],
      "metadata": {
        "id": "5VjaQN2i6d0V"
      },
      "execution_count": null,
      "outputs": []
    },
    {
      "cell_type": "code",
      "source": [
        "MST_weights = []\n",
        "for i, data in enumerate(inputs):\n",
        "\n",
        "    number_of_nodes = data[0][0]\n",
        "    number_of_edges = data[0][1]\n",
        "    graph = data[1:]\n",
        "\n",
        "    g = Graph_Algorithms(number_of_nodes)\n",
        "    g.graphConstruction(graph)\n",
        "    MST_weights.append(g.KruskalUF())"
      ],
      "metadata": {
        "id": "yabduRNS6d3V"
      },
      "execution_count": 43,
      "outputs": []
    },
    {
      "cell_type": "code",
      "source": [
        "MST_weights_df = pd.DataFrame(None)\n",
        "\n",
        "MST_weights_df['Problem_instance'] = sorted(os.listdir(root))\n",
        "MST_weights_df['MST_weight'] = MST_weights\n",
        "MST_weights_df.index = [i for i in range(1, 69)]\n",
        "\n",
        "MST_weights_df"
      ],
      "metadata": {
        "colab": {
          "base_uri": "https://localhost:8080/",
          "height": 414
        },
        "id": "tyQ0436P8uEs",
        "outputId": "6a783e2d-cebd-4c37-e774-969156b506b6"
      },
      "execution_count": 48,
      "outputs": [
        {
          "output_type": "execute_result",
          "data": {
            "text/plain": [
              "              Problem_instance  MST_weight\n",
              "1       input_random_01_10.txt       29316\n",
              "2       input_random_02_10.txt       16940\n",
              "3       input_random_03_10.txt      -44448\n",
              "4       input_random_04_10.txt       25217\n",
              "5       input_random_05_20.txt      -32021\n",
              "..                         ...         ...\n",
              "64   input_random_64_80000.txt  -180793224\n",
              "65  input_random_65_100000.txt  -230698391\n",
              "66  input_random_66_100000.txt  -230168572\n",
              "67  input_random_67_100000.txt  -231393935\n",
              "68  input_random_68_100000.txt  -231011693\n",
              "\n",
              "[68 rows x 2 columns]"
            ],
            "text/html": [
              "\n",
              "  <div id=\"df-ae9e0570-ceca-4b7f-8349-a5237e1cf97c\">\n",
              "    <div class=\"colab-df-container\">\n",
              "      <div>\n",
              "<style scoped>\n",
              "    .dataframe tbody tr th:only-of-type {\n",
              "        vertical-align: middle;\n",
              "    }\n",
              "\n",
              "    .dataframe tbody tr th {\n",
              "        vertical-align: top;\n",
              "    }\n",
              "\n",
              "    .dataframe thead th {\n",
              "        text-align: right;\n",
              "    }\n",
              "</style>\n",
              "<table border=\"1\" class=\"dataframe\">\n",
              "  <thead>\n",
              "    <tr style=\"text-align: right;\">\n",
              "      <th></th>\n",
              "      <th>Problem_instance</th>\n",
              "      <th>MST_weight</th>\n",
              "    </tr>\n",
              "  </thead>\n",
              "  <tbody>\n",
              "    <tr>\n",
              "      <th>1</th>\n",
              "      <td>input_random_01_10.txt</td>\n",
              "      <td>29316</td>\n",
              "    </tr>\n",
              "    <tr>\n",
              "      <th>2</th>\n",
              "      <td>input_random_02_10.txt</td>\n",
              "      <td>16940</td>\n",
              "    </tr>\n",
              "    <tr>\n",
              "      <th>3</th>\n",
              "      <td>input_random_03_10.txt</td>\n",
              "      <td>-44448</td>\n",
              "    </tr>\n",
              "    <tr>\n",
              "      <th>4</th>\n",
              "      <td>input_random_04_10.txt</td>\n",
              "      <td>25217</td>\n",
              "    </tr>\n",
              "    <tr>\n",
              "      <th>5</th>\n",
              "      <td>input_random_05_20.txt</td>\n",
              "      <td>-32021</td>\n",
              "    </tr>\n",
              "    <tr>\n",
              "      <th>...</th>\n",
              "      <td>...</td>\n",
              "      <td>...</td>\n",
              "    </tr>\n",
              "    <tr>\n",
              "      <th>64</th>\n",
              "      <td>input_random_64_80000.txt</td>\n",
              "      <td>-180793224</td>\n",
              "    </tr>\n",
              "    <tr>\n",
              "      <th>65</th>\n",
              "      <td>input_random_65_100000.txt</td>\n",
              "      <td>-230698391</td>\n",
              "    </tr>\n",
              "    <tr>\n",
              "      <th>66</th>\n",
              "      <td>input_random_66_100000.txt</td>\n",
              "      <td>-230168572</td>\n",
              "    </tr>\n",
              "    <tr>\n",
              "      <th>67</th>\n",
              "      <td>input_random_67_100000.txt</td>\n",
              "      <td>-231393935</td>\n",
              "    </tr>\n",
              "    <tr>\n",
              "      <th>68</th>\n",
              "      <td>input_random_68_100000.txt</td>\n",
              "      <td>-231011693</td>\n",
              "    </tr>\n",
              "  </tbody>\n",
              "</table>\n",
              "<p>68 rows × 2 columns</p>\n",
              "</div>\n",
              "      <button class=\"colab-df-convert\" onclick=\"convertToInteractive('df-ae9e0570-ceca-4b7f-8349-a5237e1cf97c')\"\n",
              "              title=\"Convert this dataframe to an interactive table.\"\n",
              "              style=\"display:none;\">\n",
              "        \n",
              "  <svg xmlns=\"http://www.w3.org/2000/svg\" height=\"24px\"viewBox=\"0 0 24 24\"\n",
              "       width=\"24px\">\n",
              "    <path d=\"M0 0h24v24H0V0z\" fill=\"none\"/>\n",
              "    <path d=\"M18.56 5.44l.94 2.06.94-2.06 2.06-.94-2.06-.94-.94-2.06-.94 2.06-2.06.94zm-11 1L8.5 8.5l.94-2.06 2.06-.94-2.06-.94L8.5 2.5l-.94 2.06-2.06.94zm10 10l.94 2.06.94-2.06 2.06-.94-2.06-.94-.94-2.06-.94 2.06-2.06.94z\"/><path d=\"M17.41 7.96l-1.37-1.37c-.4-.4-.92-.59-1.43-.59-.52 0-1.04.2-1.43.59L10.3 9.45l-7.72 7.72c-.78.78-.78 2.05 0 2.83L4 21.41c.39.39.9.59 1.41.59.51 0 1.02-.2 1.41-.59l7.78-7.78 2.81-2.81c.8-.78.8-2.07 0-2.86zM5.41 20L4 18.59l7.72-7.72 1.47 1.35L5.41 20z\"/>\n",
              "  </svg>\n",
              "      </button>\n",
              "      \n",
              "  <style>\n",
              "    .colab-df-container {\n",
              "      display:flex;\n",
              "      flex-wrap:wrap;\n",
              "      gap: 12px;\n",
              "    }\n",
              "\n",
              "    .colab-df-convert {\n",
              "      background-color: #E8F0FE;\n",
              "      border: none;\n",
              "      border-radius: 50%;\n",
              "      cursor: pointer;\n",
              "      display: none;\n",
              "      fill: #1967D2;\n",
              "      height: 32px;\n",
              "      padding: 0 0 0 0;\n",
              "      width: 32px;\n",
              "    }\n",
              "\n",
              "    .colab-df-convert:hover {\n",
              "      background-color: #E2EBFA;\n",
              "      box-shadow: 0px 1px 2px rgba(60, 64, 67, 0.3), 0px 1px 3px 1px rgba(60, 64, 67, 0.15);\n",
              "      fill: #174EA6;\n",
              "    }\n",
              "\n",
              "    [theme=dark] .colab-df-convert {\n",
              "      background-color: #3B4455;\n",
              "      fill: #D2E3FC;\n",
              "    }\n",
              "\n",
              "    [theme=dark] .colab-df-convert:hover {\n",
              "      background-color: #434B5C;\n",
              "      box-shadow: 0px 1px 3px 1px rgba(0, 0, 0, 0.15);\n",
              "      filter: drop-shadow(0px 1px 2px rgba(0, 0, 0, 0.3));\n",
              "      fill: #FFFFFF;\n",
              "    }\n",
              "  </style>\n",
              "\n",
              "      <script>\n",
              "        const buttonEl =\n",
              "          document.querySelector('#df-ae9e0570-ceca-4b7f-8349-a5237e1cf97c button.colab-df-convert');\n",
              "        buttonEl.style.display =\n",
              "          google.colab.kernel.accessAllowed ? 'block' : 'none';\n",
              "\n",
              "        async function convertToInteractive(key) {\n",
              "          const element = document.querySelector('#df-ae9e0570-ceca-4b7f-8349-a5237e1cf97c');\n",
              "          const dataTable =\n",
              "            await google.colab.kernel.invokeFunction('convertToInteractive',\n",
              "                                                     [key], {});\n",
              "          if (!dataTable) return;\n",
              "\n",
              "          const docLinkHtml = 'Like what you see? Visit the ' +\n",
              "            '<a target=\"_blank\" href=https://colab.research.google.com/notebooks/data_table.ipynb>data table notebook</a>'\n",
              "            + ' to learn more about interactive tables.';\n",
              "          element.innerHTML = '';\n",
              "          dataTable['output_type'] = 'display_data';\n",
              "          await google.colab.output.renderOutput(dataTable, element);\n",
              "          const docLink = document.createElement('div');\n",
              "          docLink.innerHTML = docLinkHtml;\n",
              "          element.appendChild(docLink);\n",
              "        }\n",
              "      </script>\n",
              "    </div>\n",
              "  </div>\n",
              "  "
            ]
          },
          "metadata": {},
          "execution_count": 48
        }
      ]
    },
    {
      "cell_type": "markdown",
      "source": [
        "#Correctness"
      ],
      "metadata": {
        "id": "jVP5iPdg6QeE"
      }
    },
    {
      "cell_type": "markdown",
      "source": [
        "##Compare algorithms' output"
      ],
      "metadata": {
        "id": "jmMDTUfR4tXd"
      }
    },
    {
      "cell_type": "code",
      "source": [
        "for i, data in enumerate(inputs):\n",
        "\n",
        "  if i < 30:\n",
        "\n",
        "    number_of_nodes = data[0][0]\n",
        "    number_of_edges = data[0][1]\n",
        "    graph = data[1:]\n",
        "    start = graph[0][0]\n",
        "\n",
        "    print(\"-\"*50)\n",
        "    print(f'DATASET N.{str(i)} -> n={number_of_nodes}, m={number_of_edges}')\n",
        "\n",
        "    g = Graph_Algorithms(number_of_nodes)\n",
        "    g.graphConstruction(graph)\n",
        "\n",
        "    g.PRIM(start, verbose=True)\n",
        "    g.NaiveKruskal(verbose=True)\n",
        "    g.KruskalUF(verbose=True)"
      ],
      "metadata": {
        "colab": {
          "base_uri": "https://localhost:8080/"
        },
        "id": "gI7ws7yLvNhq",
        "outputId": "ffb95e18-07a9-4ebe-cbd9-562a8fdfc6f2"
      },
      "execution_count": 59,
      "outputs": [
        {
          "output_type": "stream",
          "name": "stdout",
          "text": [
            "--------------------------------------------------\n",
            "DATASET N.0 -> n=10, m=9\n",
            "MST found by PRIM algorithm: 29316\n",
            "MST found by Naive-Kruskal algorithm: 29316\n",
            "MST found by Kruskal-UF algorithm: 29316\n",
            "--------------------------------------------------\n",
            "DATASET N.1 -> n=10, m=11\n",
            "MST found by PRIM algorithm: 16940\n",
            "MST found by Naive-Kruskal algorithm: 16940\n",
            "MST found by Kruskal-UF algorithm: 16940\n",
            "--------------------------------------------------\n",
            "DATASET N.2 -> n=10, m=13\n",
            "MST found by PRIM algorithm: -44448\n",
            "MST found by Naive-Kruskal algorithm: -44448\n",
            "MST found by Kruskal-UF algorithm: -44448\n",
            "--------------------------------------------------\n",
            "DATASET N.3 -> n=10, m=10\n",
            "MST found by PRIM algorithm: 25217\n",
            "MST found by Naive-Kruskal algorithm: 25217\n",
            "MST found by Kruskal-UF algorithm: 25217\n",
            "--------------------------------------------------\n",
            "DATASET N.4 -> n=20, m=24\n",
            "MST found by PRIM algorithm: -32021\n",
            "MST found by Naive-Kruskal algorithm: -32021\n",
            "MST found by Kruskal-UF algorithm: -32021\n",
            "--------------------------------------------------\n",
            "DATASET N.5 -> n=20, m=24\n",
            "MST found by PRIM algorithm: 25130\n",
            "MST found by Naive-Kruskal algorithm: 25130\n",
            "MST found by Kruskal-UF algorithm: 25130\n",
            "--------------------------------------------------\n",
            "DATASET N.6 -> n=20, m=28\n",
            "MST found by PRIM algorithm: -41693\n",
            "MST found by Naive-Kruskal algorithm: -41693\n",
            "MST found by Kruskal-UF algorithm: -41693\n",
            "--------------------------------------------------\n",
            "DATASET N.7 -> n=20, m=26\n",
            "MST found by PRIM algorithm: -37205\n",
            "MST found by Naive-Kruskal algorithm: -37205\n",
            "MST found by Kruskal-UF algorithm: -37205\n",
            "--------------------------------------------------\n",
            "DATASET N.8 -> n=40, m=56\n",
            "MST found by PRIM algorithm: -114203\n",
            "MST found by Naive-Kruskal algorithm: -114203\n",
            "MST found by Kruskal-UF algorithm: -114203\n",
            "--------------------------------------------------\n",
            "DATASET N.9 -> n=40, m=50\n",
            "MST found by PRIM algorithm: -31929\n",
            "MST found by Naive-Kruskal algorithm: -31929\n",
            "MST found by Kruskal-UF algorithm: -31929\n",
            "--------------------------------------------------\n",
            "DATASET N.10 -> n=40, m=50\n",
            "MST found by PRIM algorithm: -79570\n",
            "MST found by Naive-Kruskal algorithm: -79570\n",
            "MST found by Kruskal-UF algorithm: -79570\n",
            "--------------------------------------------------\n",
            "DATASET N.11 -> n=40, m=52\n",
            "MST found by PRIM algorithm: -79741\n",
            "MST found by Naive-Kruskal algorithm: -79741\n",
            "MST found by Kruskal-UF algorithm: -79741\n",
            "--------------------------------------------------\n",
            "DATASET N.12 -> n=80, m=108\n",
            "MST found by PRIM algorithm: -139926\n",
            "MST found by Naive-Kruskal algorithm: -139926\n",
            "MST found by Kruskal-UF algorithm: -139926\n",
            "--------------------------------------------------\n",
            "DATASET N.13 -> n=80, m=99\n",
            "MST found by PRIM algorithm: -198094\n",
            "MST found by Naive-Kruskal algorithm: -198094\n",
            "MST found by Kruskal-UF algorithm: -198094\n",
            "--------------------------------------------------\n",
            "DATASET N.14 -> n=80, m=104\n",
            "MST found by PRIM algorithm: -110571\n",
            "MST found by Naive-Kruskal algorithm: -110571\n",
            "MST found by Kruskal-UF algorithm: -110571\n",
            "--------------------------------------------------\n",
            "DATASET N.15 -> n=80, m=114\n",
            "MST found by PRIM algorithm: -233320\n",
            "MST found by Naive-Kruskal algorithm: -233320\n",
            "MST found by Kruskal-UF algorithm: -233320\n",
            "--------------------------------------------------\n",
            "DATASET N.16 -> n=100, m=136\n",
            "MST found by PRIM algorithm: -141960\n",
            "MST found by Naive-Kruskal algorithm: -141960\n",
            "MST found by Kruskal-UF algorithm: -141960\n",
            "--------------------------------------------------\n",
            "DATASET N.17 -> n=100, m=129\n",
            "MST found by PRIM algorithm: -271743\n",
            "MST found by Naive-Kruskal algorithm: -271743\n",
            "MST found by Kruskal-UF algorithm: -271743\n",
            "--------------------------------------------------\n",
            "DATASET N.18 -> n=100, m=137\n",
            "MST found by PRIM algorithm: -288906\n",
            "MST found by Naive-Kruskal algorithm: -288906\n",
            "MST found by Kruskal-UF algorithm: -288906\n",
            "--------------------------------------------------\n",
            "DATASET N.19 -> n=100, m=132\n",
            "MST found by PRIM algorithm: -229506\n",
            "MST found by Naive-Kruskal algorithm: -229506\n",
            "MST found by Kruskal-UF algorithm: -229506\n",
            "--------------------------------------------------\n",
            "DATASET N.20 -> n=200, m=267\n",
            "MST found by PRIM algorithm: -510185\n",
            "MST found by Naive-Kruskal algorithm: -510185\n",
            "MST found by Kruskal-UF algorithm: -510185\n",
            "--------------------------------------------------\n",
            "DATASET N.21 -> n=200, m=269\n",
            "MST found by PRIM algorithm: -515136\n",
            "MST found by Naive-Kruskal algorithm: -515136\n",
            "MST found by Kruskal-UF algorithm: -515136\n",
            "--------------------------------------------------\n",
            "DATASET N.22 -> n=200, m=269\n",
            "MST found by PRIM algorithm: -444357\n",
            "MST found by Naive-Kruskal algorithm: -444357\n",
            "MST found by Kruskal-UF algorithm: -444357\n",
            "--------------------------------------------------\n",
            "DATASET N.23 -> n=200, m=267\n",
            "MST found by PRIM algorithm: -393278\n",
            "MST found by Naive-Kruskal algorithm: -393278\n",
            "MST found by Kruskal-UF algorithm: -393278\n",
            "--------------------------------------------------\n",
            "DATASET N.24 -> n=400, m=540\n",
            "MST found by PRIM algorithm: -1119906\n",
            "MST found by Naive-Kruskal algorithm: -1119906\n",
            "MST found by Kruskal-UF algorithm: -1119906\n",
            "--------------------------------------------------\n",
            "DATASET N.25 -> n=400, m=518\n",
            "MST found by PRIM algorithm: -788168\n",
            "MST found by Naive-Kruskal algorithm: -788168\n",
            "MST found by Kruskal-UF algorithm: -788168\n",
            "--------------------------------------------------\n",
            "DATASET N.26 -> n=400, m=538\n",
            "MST found by PRIM algorithm: -895704\n",
            "MST found by Naive-Kruskal algorithm: -895704\n",
            "MST found by Kruskal-UF algorithm: -895704\n",
            "--------------------------------------------------\n",
            "DATASET N.27 -> n=400, m=526\n",
            "MST found by PRIM algorithm: -733645\n",
            "MST found by Naive-Kruskal algorithm: -733645\n",
            "MST found by Kruskal-UF algorithm: -733645\n",
            "--------------------------------------------------\n",
            "DATASET N.28 -> n=800, m=1063\n",
            "MST found by PRIM algorithm: -1541291\n",
            "MST found by Naive-Kruskal algorithm: -1541291\n",
            "MST found by Kruskal-UF algorithm: -1541291\n",
            "--------------------------------------------------\n",
            "DATASET N.29 -> n=800, m=1058\n",
            "MST found by PRIM algorithm: -1578294\n",
            "MST found by Naive-Kruskal algorithm: -1578294\n",
            "MST found by Kruskal-UF algorithm: -1578294\n"
          ]
        }
      ]
    },
    {
      "cell_type": "markdown",
      "source": [
        "##Test on 2 randomly chosen test case from the Github link"
      ],
      "metadata": {
        "id": "QSTbYT_74b3R"
      }
    },
    {
      "cell_type": "code",
      "source": [
        "#TEST CASE 1\n",
        "input = []\n",
        "with open(\"/content/GITHUB_TEST_CASE.txt\") as f:\n",
        "  for i, content in enumerate(f.readlines()):\n",
        "    if i == 0:\n",
        "      n, m = list(map(lambda x: int(x), content.replace(\"\\n\", \"\").split(\" \")))\n",
        "    else:\n",
        "      input.append(list(map(lambda x: int(x), content.replace(\"\\n\", \"\").split(\" \"))))\n",
        "\n",
        "start = input[0][0]\n",
        "\n",
        "print(f'A random test case from Github link -> n={n}, m={m}\\n')\n",
        "print('The true MST has a weight of: -1837558') # according to Github\n",
        "g = Graph_Algorithms(n)\n",
        "g.graphConstruction(input)\n",
        "\n",
        "_ = g.PRIM(start, verbose=True)\n",
        "_ = g.NaiveKruskal(verbose=True)\n",
        "_ = g.KruskalUF(verbose=True)"
      ],
      "metadata": {
        "colab": {
          "base_uri": "https://localhost:8080/"
        },
        "id": "w-o5mANawSju",
        "outputId": "994a3468-be8c-4317-8e60-e74d8e60a550"
      },
      "execution_count": 63,
      "outputs": [
        {
          "output_type": "stream",
          "name": "stdout",
          "text": [
            "A random test case from Github link -> n=800, m=1062\n",
            "\n",
            "The true MST has a weight of: -1837558\n",
            "MST found by PRIM algorithm: -1837558\n",
            "MST found by Naive-Kruskal algorithm: -1837558\n",
            "MST found by Kruskal-UF algorithm: -1837558\n"
          ]
        }
      ]
    },
    {
      "cell_type": "code",
      "source": [
        "#TEST CASE 2\n",
        "input = []\n",
        "with open(\"/content/GITHUB_TEST_CASE2.txt\") as f:\n",
        "  for i, content in enumerate(f.readlines()):\n",
        "    if i == 0:\n",
        "      n, m = list(map(lambda x: int(x), content.replace(\"\\n\", \"\").split(\" \")))\n",
        "    else:\n",
        "      input.append(list(map(lambda x: int(x), content.replace(\"\\n\", \"\").split(\" \"))))\n",
        "\n",
        "start = input[0][0]\n",
        "\n",
        "print(f'A random test case from Github link -> n={n}, m={m}\\n')\n",
        "print('The true MST has a weight of: -513349') # according to Github\n",
        "g = Graph_Algorithms(n)\n",
        "g.graphConstruction(input)\n",
        "\n",
        "_ = g.PRIM(start, verbose=True)\n",
        "_ = g.NaiveKruskal(verbose=True)\n",
        "_ = g.KruskalUF(verbose=True)"
      ],
      "metadata": {
        "colab": {
          "base_uri": "https://localhost:8080/"
        },
        "id": "xy7436DS4EX6",
        "outputId": "a1a34dac-53e6-46f9-ac83-e8af73c5da28"
      },
      "execution_count": 65,
      "outputs": [
        {
          "output_type": "stream",
          "name": "stdout",
          "text": [
            "A random test case from Github link -> n=200, m=262\n",
            "\n",
            "The true MST has a weight of: -513349\n",
            "MST found by PRIM algorithm: -513349\n",
            "MST found by Naive-Kruskal algorithm: -513349\n",
            "MST found by Kruskal-UF algorithm: -513349\n"
          ]
        }
      ]
    },
    {
      "cell_type": "markdown",
      "source": [
        "#Complexity"
      ],
      "metadata": {
        "id": "fKrUXyFYuz8u"
      }
    },
    {
      "cell_type": "markdown",
      "source": [
        "##The fastest algorithm -> KruskalUF: [O(mlogn), constant=0.433]"
      ],
      "metadata": {
        "id": "2NS4hys0JtUt"
      }
    },
    {
      "cell_type": "code",
      "source": [
        "numberOfRunningPerInput = 30 # execution time of 30 calls is better than a single call\n",
        "KUF_avg_time = []\n",
        "N_M = []\n",
        "\n",
        "for i, data in enumerate(inputs):\n",
        "\n",
        "  number_of_nodes = data[0][0]\n",
        "  number_of_edges = data[0][1]\n",
        "  graph = data[1:]\n",
        "  KUF_time = []\n",
        "\n",
        "  N_M.append([number_of_nodes, number_of_edges])\n",
        "\n",
        "  for _ in range(numberOfRunningPerInput):\n",
        "\n",
        "    g = Graph_Algorithms(number_of_nodes)\n",
        "    g.graphConstruction(graph)\n",
        "\n",
        "    start_time = time.time()\n",
        "    _ = g.KruskalUF()\n",
        "    end_time = time.time()\n",
        "    duration = end_time - start_time\n",
        "    KUF_time.append(duration)\n",
        "\n",
        "  KUF_avg_time.append(np.mean(KUF_time)) # Average of these 30 calls"
      ],
      "metadata": {
        "id": "riViicjzIukj"
      },
      "execution_count": 83,
      "outputs": []
    },
    {
      "cell_type": "code",
      "source": [
        "x = list(map(lambda x: int(x[1] * np.log(x[0])),N_M)) # compute mlogn for each problem instance\n",
        "KUF_avg_time_adj = list(map(lambda x: 1e6 * x, KUF_avg_time)) # Running time is sometime so small that\n",
        "# the code treat it as zero. To avoid this, we multiply the running time to 1e6. This product does not\n",
        "# affect the analysis. (Micro sencond)\n",
        "\n",
        "sizeVStime = {x[i]:KUF_avg_time_adj[i] for i in range(len(x))}\n",
        "sizeVStime_sorted = sorted(sizeVStime.items(), key=lambda x: x[0])\n",
        "\n",
        "size = list(map(lambda x: x[0], sizeVStime_sorted))\n",
        "runningTime = list(map(lambda x: x[1], sizeVStime_sorted))"
      ],
      "metadata": {
        "id": "cT1JO9uFXETx"
      },
      "execution_count": 128,
      "outputs": []
    },
    {
      "cell_type": "code",
      "source": [
        "c_estimates = [round(runningTime[i]/size[i],3) for i in range(len(size))]\n",
        "print(\"mlogn\\tTime(Micro s)\\tConstant\")\n",
        "print(40*\"-\")\n",
        "for i in range(len(size)):\n",
        "  print(f\"{size[i]}\\t{runningTime[i]:.2f}\\t\\t{c_estimates[i]}\")\n",
        "print(40*\"-\")"
      ],
      "metadata": {
        "colab": {
          "base_uri": "https://localhost:8080/"
        },
        "id": "R7OSh59oSDgh",
        "outputId": "0821b4bb-b152-45d5-d8c8-e3a46ba56e76"
      },
      "execution_count": 129,
      "outputs": [
        {
          "output_type": "stream",
          "name": "stdout",
          "text": [
            "mlogn\tTime(Micro s)\tConstant\n",
            "----------------------------------------\n",
            "20\t33.67\t\t1.684\n",
            "23\t36.94\t\t1.606\n",
            "25\t40.70\t\t1.628\n",
            "29\t40.18\t\t1.386\n",
            "71\t86.52\t\t1.219\n",
            "77\t100.44\t\t1.304\n",
            "83\t99.19\t\t1.195\n",
            "184\t194.74\t\t1.058\n",
            "191\t204.35\t\t1.07\n",
            "206\t206.56\t\t1.003\n",
            "433\t409.86\t\t0.947\n",
            "455\t377.16\t\t0.829\n",
            "473\t412.41\t\t0.872\n",
            "499\t391.04\t\t0.784\n",
            "594\t267.74\t\t0.451\n",
            "607\t274.82\t\t0.453\n",
            "626\t275.08\t\t0.439\n",
            "630\t282.82\t\t0.449\n",
            "1414\t550.26\t\t0.389\n",
            "1425\t556.59\t\t0.391\n",
            "3103\t1387.91\t\t0.447\n",
            "3151\t1266.84\t\t0.402\n",
            "3223\t1244.41\t\t0.386\n",
            "3235\t1312.25\t\t0.406\n",
            "7012\t2869.96\t\t0.409\n",
            "7072\t2743.64\t\t0.388\n",
            "7105\t2732.47\t\t0.385\n",
            "7192\t3169.66\t\t0.441\n",
            "8980\t3316.66\t\t0.369\n",
            "9069\t3510.86\t\t0.387\n",
            "9173\t3470.07\t\t0.378\n",
            "9284\t3546.50\t\t0.382\n",
            "20157\t7497.11\t\t0.372\n",
            "20172\t7634.98\t\t0.378\n",
            "20347\t7293.58\t\t0.358\n",
            "20514\t7781.71\t\t0.379\n",
            "44082\t15892.43\t\t0.361\n",
            "44290\t16563.30\t\t0.374\n",
            "44456\t16212.11\t\t0.365\n",
            "44522\t16289.09\t\t0.366\n",
            "95821\t35721.18\t\t0.373\n",
            "95893\t35976.98\t\t0.375\n",
            "96207\t35262.15\t\t0.367\n",
            "96675\t59316.36\t\t0.614\n",
            "122377\t47666.42\t\t0.39\n",
            "122506\t47254.60\t\t0.386\n",
            "122598\t47437.30\t\t0.387\n",
            "122865\t46239.72\t\t0.376\n",
            "264096\t102757.84\t\t0.389\n",
            "264126\t104928.26\t\t0.397\n",
            "264155\t103694.30\t\t0.393\n",
            "265670\t126557.96\t\t0.476\n",
            "564186\t229389.37\t\t0.407\n",
            "565001\t251817.95\t\t0.446\n",
            "566019\t254010.24\t\t0.449\n",
            "566347\t287782.02\t\t0.508\n",
            "1202971\t536539.89\t\t0.446\n",
            "1203332\t537282.79\t\t0.446\n",
            "1203863\t512711.54\t\t0.426\n",
            "1207035\t540764.73\t\t0.448\n",
            "1533682\t669485.26\t\t0.437\n",
            "1535766\t665787.42\t\t0.434\n",
            "1536549\t672263.38\t\t0.438\n",
            "1537251\t665269.69\t\t0.433\n",
            "----------------------------------------\n"
          ]
        }
      ]
    },
    {
      "cell_type": "markdown",
      "source": [
        "If we use the value $constant = 0.433$ for the constant we can compare the actual execution times with the expected asymptotic growth and visually verify the correspondence:"
      ],
      "metadata": {
        "id": "mPPTnOXdcdFH"
      }
    },
    {
      "cell_type": "code",
      "source": [
        "constant = 0.433\n",
        "ref = [constant*s for s in size]\n",
        "\n",
        "plt.title(\"KruskalUF\")\n",
        "plt.plot(size, runningTime)\n",
        "plt.plot(size, ref)\n",
        "plt.legend([\"Measured time\", f\"{constant}*(mlogn)\"])\n",
        "plt.ylabel('run time (Micro s)')\n",
        "plt.xlabel('size')\n",
        "plt.grid()\n",
        "plt.savefig('KruskalUF_complexity.png')\n",
        "plt.show()"
      ],
      "metadata": {
        "colab": {
          "base_uri": "https://localhost:8080/",
          "height": 295
        },
        "id": "7Kca3g3YvSC4",
        "outputId": "31909e42-07eb-45a4-c034-02b37860df69"
      },
      "execution_count": 130,
      "outputs": [
        {
          "output_type": "display_data",
          "data": {
            "text/plain": [
              "<Figure size 432x288 with 1 Axes>"
            ],
            "image/png": "[encoded data removed]"
          },
          "metadata": {
            "needs_background": "light"
          }
        }
      ]
    },
    {
      "cell_type": "markdown",
      "source": [
        "##The second fastest algorithm -> PRIM(Heap): [O(mlogn), constant=453]"
      ],
      "metadata": {
        "id": "MBC1XG_JJ5Vk"
      }
    },
    {
      "cell_type": "code",
      "source": [
        "numberOfRunningPerInput = 10 # execution time of 10 calls is better than a single call\n",
        "PRIM_avg_time = []\n",
        "N_M = []\n",
        "\n",
        "for i, data in enumerate(inputs):\n",
        "\n",
        "  if i < 40:\n",
        "\n",
        "    number_of_nodes = data[0][0]\n",
        "    number_of_edges = data[0][1]\n",
        "    graph = data[1:]\n",
        "    start = graph[0][0]\n",
        "    PRIM_time = []\n",
        "\n",
        "    N_M.append([number_of_nodes, number_of_edges])\n",
        "\n",
        "    for _ in range(numberOfRunningPerInput):\n",
        "\n",
        "      g = Graph_Algorithms(number_of_nodes)\n",
        "      g.graphConstruction(graph)\n",
        "\n",
        "      start_time = time.time()\n",
        "      _ = g.PRIM(start)\n",
        "      end_time = time.time()\n",
        "      duration = end_time - start_time\n",
        "      PRIM_time.append(duration)\n",
        "\n",
        "    PRIM_avg_time.append(np.mean(PRIM_time)) # Average of these 10 calls"
      ],
      "metadata": {
        "id": "hoUqRZ-eKAhz"
      },
      "execution_count": 88,
      "outputs": []
    },
    {
      "cell_type": "code",
      "source": [
        "x = list(map(lambda x: int(x[1] * np.log(x[0])),N_M)) # Compute mlogn for each problem instance\n",
        "PRIM_avg_time_adj = list(map(lambda x: 1e6 * x, PRIM_avg_time)) # Running time is sometime so small that\n",
        "# the code treat it as zero. To avoid this, we multiply the running time to 1e6. This product does not\n",
        "# affect the analysis. (Micro sencond)\n",
        "\n",
        "sizeVStime = {x[i]:PRIM_avg_time_adj[i] for i in range(len(x))}\n",
        "sizeVStime_sorted = sorted(sizeVStime.items(), key=lambda x: x[0])\n",
        "\n",
        "size = list(map(lambda x: x[0], sizeVStime_sorted))\n",
        "runningTime = list(map(lambda x: x[1], sizeVStime_sorted))"
      ],
      "metadata": {
        "id": "joU2FXs1ului"
      },
      "execution_count": 101,
      "outputs": []
    },
    {
      "cell_type": "code",
      "source": [
        "c_estimates = [round(runningTime[i]/size[i],3) for i in range(len(size))]\n",
        "print(\"mlogn\\tTime(Micro s)\\tConstant\")\n",
        "print(40*\"-\")\n",
        "for i in range(len(size)):\n",
        "  print(f\"{size[i]}\\t{runningTime[i]:.2f}\\t\\t{c_estimates[i]}\")\n",
        "print(40*\"-\")"
      ],
      "metadata": {
        "colab": {
          "base_uri": "https://localhost:8080/"
        },
        "id": "K-dPVxhYupAG",
        "outputId": "466a586d-2e14-4d6e-8e6f-8458f6176097"
      },
      "execution_count": 121,
      "outputs": [
        {
          "output_type": "stream",
          "name": "stdout",
          "text": [
            "mlogn\tTime(Micro s)\tConstant\n",
            "----------------------------------------\n",
            "20\t453.92\t\t22.696\n",
            "23\t321.09\t\t13.961\n",
            "25\t369.80\t\t14.792\n",
            "29\t516.49\t\t17.81\n",
            "71\t1489.72\t\t20.982\n",
            "77\t1742.36\t\t22.628\n",
            "83\t1849.74\t\t22.286\n",
            "184\t5840.65\t\t31.743\n",
            "191\t6099.82\t\t31.936\n",
            "206\t6862.76\t\t33.314\n",
            "433\t22642.69\t\t52.293\n",
            "455\t23482.25\t\t51.609\n",
            "473\t25604.58\t\t54.132\n",
            "499\t29377.23\t\t58.872\n",
            "594\t36706.01\t\t61.795\n",
            "607\t38409.40\t\t63.277\n",
            "626\t41815.60\t\t66.798\n",
            "630\t40167.39\t\t63.758\n",
            "1414\t153094.61\t\t108.271\n",
            "1425\t161254.23\t\t113.161\n",
            "3103\t578824.83\t\t186.537\n",
            "3151\t600935.63\t\t190.713\n",
            "3223\t725812.37\t\t225.198\n",
            "3235\t623660.33\t\t192.785\n",
            "7012\t2526312.33\t\t360.284\n",
            "7072\t2572445.38\t\t363.751\n",
            "7105\t2478342.20\t\t348.817\n",
            "7192\t2527132.62\t\t351.381\n",
            "8980\t2975610.39\t\t331.36\n",
            "9069\t3163594.70\t\t348.836\n",
            "9173\t3326344.62\t\t362.623\n",
            "9284\t3247767.56\t\t349.824\n",
            "20157\t9212631.01\t\t457.044\n",
            "20172\t9396702.72\t\t465.829\n",
            "20347\t9248112.37\t\t454.52\n",
            "20514\t9295963.79\t\t453.152\n",
            "----------------------------------------\n"
          ]
        }
      ]
    },
    {
      "cell_type": "markdown",
      "source": [
        "If we use the value $constant = 453$ for the constant we can compare the actual execution times with the expected asymptotic growth and visually verify the correspondence:"
      ],
      "metadata": {
        "id": "G0B-NnzFsZCv"
      }
    },
    {
      "cell_type": "code",
      "source": [
        "constant = 453\n",
        "ref = [constant*s for s in size]\n",
        "\n",
        "plt.title(\"PRIM\")\n",
        "plt.plot(size, runningTime)\n",
        "plt.plot(size, ref)\n",
        "plt.legend([\"Measured time\", f\"{constant}*(mlogn)\"])\n",
        "plt.ylabel('run time(Micro s)')\n",
        "plt.xlabel('size')\n",
        "plt.grid()\n",
        "plt.savefig('PRIM_complexity.png')\n",
        "plt.show()"
      ],
      "metadata": {
        "colab": {
          "base_uri": "https://localhost:8080/",
          "height": 295
        },
        "id": "HVxxe4jQxhnP",
        "outputId": "bf7b2133-091e-4d9d-a94d-a3d9a3895f08"
      },
      "execution_count": 120,
      "outputs": [
        {
          "output_type": "display_data",
          "data": {
            "text/plain": [
              "<Figure size 432x288 with 1 Axes>"
            ],
            "image/png": "[encoded data removed]"
          },
          "metadata": {
            "needs_background": "light"
          }
        }
      ]
    },
    {
      "cell_type": "markdown",
      "source": [
        "##The slowest algorithm -> NaiveKruskal: [O(mn), constant=96]"
      ],
      "metadata": {
        "id": "1GFGD5GbeJ33"
      }
    },
    {
      "cell_type": "code",
      "source": [
        "numberOfRunningPerInput = 4 # execution time of 4 calls is better than a single call\n",
        "NVK_avg_time = []\n",
        "N_M = []\n",
        "\n",
        "for i, data in enumerate(inputs):\n",
        "\n",
        "  if i < 30:\n",
        "\n",
        "    number_of_nodes = data[0][0]\n",
        "    number_of_edges = data[0][1]\n",
        "    graph = data[1:]\n",
        "    NVK_time = []\n",
        "\n",
        "    N_M.append([number_of_nodes, number_of_edges])\n",
        "\n",
        "    for _ in range(numberOfRunningPerInput):\n",
        "\n",
        "      g = Graph_Algorithms(number_of_nodes)\n",
        "      g.graphConstruction(graph)\n",
        "\n",
        "      start_time = time.time()\n",
        "      _ = g.NaiveKruskal()\n",
        "      end_time = time.time()\n",
        "      duration = end_time - start_time\n",
        "      NVK_time.append(duration)\n",
        "\n",
        "    NVK_avg_time.append(np.mean(NVK_time)) # Average of these 4 calls"
      ],
      "metadata": {
        "id": "ampjTMlCAHib"
      },
      "execution_count": 93,
      "outputs": []
    },
    {
      "cell_type": "code",
      "source": [
        "x = list(map(lambda x: int(x[1] * x[0]), N_M)) # Compute mn for each problem instance\n",
        "NVK_avg_time_adj = list(map(lambda x: 1e6 * x, NVK_avg_time)) # Running time is sometime so small that\n",
        "# the code treat it as zero. To avoid this, we multiply the running time to 1e6. This product does not\n",
        "# affect the analysis. (Micro sencond)\n",
        "\n",
        "sizeVStime = {x[i]:NVK_avg_time_adj[i] for i in range(len(x))}\n",
        "sizeVStime_sorted = sorted(sizeVStime.items(), key=lambda x: x[0])\n",
        "\n",
        "size = list(map(lambda x: x[0], sizeVStime_sorted))\n",
        "runningTime = list(map(lambda x: x[1], sizeVStime_sorted))"
      ],
      "metadata": {
        "id": "Zx-zHI0Keodv"
      },
      "execution_count": 141,
      "outputs": []
    },
    {
      "cell_type": "code",
      "source": [
        "c_estimates = [round(runningTime[i]/size[i],3) for i in range(len(size))]\n",
        "print(\"mn\\tTime(Micro s)\\tConstant\")\n",
        "print(40*\"-\")\n",
        "for i in range(len(size)):\n",
        "  print(f\"{size[i]}\\t{runningTime[i]:.2f}\\t\\t{c_estimates[i]}\")\n",
        "print(40*\"-\")"
      ],
      "metadata": {
        "colab": {
          "base_uri": "https://localhost:8080/"
        },
        "id": "c_csT1bxepNH",
        "outputId": "072828fb-f0d0-412c-b8c5-a39a679c1081"
      },
      "execution_count": 142,
      "outputs": [
        {
          "output_type": "stream",
          "name": "stdout",
          "text": [
            "mn\tTime(Micro s)\tConstant\n",
            "----------------------------------------\n",
            "90\t616.91\t\t6.855\n",
            "100\t447.75\t\t4.478\n",
            "110\t555.22\t\t5.047\n",
            "130\t647.01\t\t4.977\n",
            "480\t2399.03\t\t4.998\n",
            "520\t3001.33\t\t5.772\n",
            "560\t3361.34\t\t6.002\n",
            "2000\t16146.36\t\t8.073\n",
            "2080\t16388.12\t\t7.879\n",
            "2240\t19761.20\t\t8.822\n",
            "7920\t84933.52\t\t10.724\n",
            "8320\t103326.20\t\t12.419\n",
            "8640\t104145.23\t\t12.054\n",
            "9120\t114874.48\t\t12.596\n",
            "12900\t180123.21\t\t13.963\n",
            "13200\t185048.28\t\t14.019\n",
            "13600\t201407.85\t\t14.809\n",
            "13700\t211294.83\t\t15.423\n",
            "53400\t1385171.35\t\t25.94\n",
            "53800\t1528045.18\t\t28.402\n",
            "207200\t10051827.43\t\t48.513\n",
            "210400\t9965286.14\t\t47.364\n",
            "215200\t10827776.91\t\t50.315\n",
            "216000\t11417727.89\t\t52.86\n",
            "846400\t81688759.45\t\t96.513\n",
            "850400\t81067453.62\t\t95.329\n",
            "----------------------------------------\n"
          ]
        }
      ]
    },
    {
      "cell_type": "markdown",
      "source": [
        "If we use the value $constant = 96$ for the constant we can compare the actual execution times with the expected asymptotic growth and visually verify the correspondence:"
      ],
      "metadata": {
        "id": "-xivPC5csrU2"
      }
    },
    {
      "cell_type": "code",
      "source": [
        "constant = 96\n",
        "ref = [constant*s for s in size]\n",
        "\n",
        "plt.title(\"NaiveKruskal\")\n",
        "plt.plot(size, runningTime)\n",
        "plt.plot(size, ref)\n",
        "plt.legend([\"Measured time\", f\"{constant}*(mn)\"])\n",
        "plt.ylabel('run time (Micro s)')\n",
        "plt.xlabel('size')\n",
        "plt.grid()\n",
        "plt.savefig(\"NaiveKruskal_complexity.png\")\n",
        "plt.show()"
      ],
      "metadata": {
        "colab": {
          "base_uri": "https://localhost:8080/",
          "height": 295
        },
        "id": "XaqBrJuVepP5",
        "outputId": "47458044-b434-470d-ba3d-8e44b5669166"
      },
      "execution_count": 149,
      "outputs": [
        {
          "output_type": "display_data",
          "data": {
            "text/plain": [
              "<Figure size 432x288 with 1 Axes>"
            ],
            "image/png": "[encoded data removed]"
          },
          "metadata": {
            "needs_background": "light"
          }
        }
      ]
    }
  ],
  "metadata": {
    "colab": {
      "collapsed_sections": [
        "9apl87qDcqJ-",
        "KmKCCRgRNnRP",
        "SWS1tR32N6eq",
        "wA-WPnSOODs4",
        "nwAKjd4sZjsh",
        "jVP5iPdg6QeE",
        "jmMDTUfR4tXd",
        "QSTbYT_74b3R",
        "fKrUXyFYuz8u",
        "2NS4hys0JtUt",
        "MBC1XG_JJ5Vk",
        "1GFGD5GbeJ33"
      ],
      "name": "ADV_ALG_HW1.ipynb",
      "provenance": []
    },
    "kernelspec": {
      "display_name": "Python 3",
      "name": "python3"
    },
    "language_info": {
      "name": "python"
    }
  },
  "nbformat": 4,
  "nbformat_minor": 0
}